{
 "cells": [
  {
   "attachments": {},
   "cell_type": "markdown",
   "metadata": {},
   "source": [
    "# Setup\n",
    "\n",
    "Import Semantic Kernel SDK from pypi.org"
   ]
  },
  {
   "cell_type": "code",
   "execution_count": 1,
   "metadata": {},
   "outputs": [
    {
     "name": "stdout",
     "output_type": "stream",
     "text": [
      "Requirement already satisfied: semantic-kernel in /Users/dmitry/Projects/impactai/semantic-kernel/venv/lib/python3.12/site-packages (1.16.0)\n",
      "Requirement already satisfied: aiohttp~=3.8 in /Users/dmitry/Projects/impactai/semantic-kernel/venv/lib/python3.12/site-packages (from semantic-kernel) (3.11.7)\n",
      "Requirement already satisfied: cloudevents~=1.0 in /Users/dmitry/Projects/impactai/semantic-kernel/venv/lib/python3.12/site-packages (from semantic-kernel) (1.11.0)\n",
      "Requirement already satisfied: pydantic<2.10,>=2.0 in /Users/dmitry/Projects/impactai/semantic-kernel/venv/lib/python3.12/site-packages (from semantic-kernel) (2.9.2)\n",
      "Requirement already satisfied: pydantic-settings~=2.0 in /Users/dmitry/Projects/impactai/semantic-kernel/venv/lib/python3.12/site-packages (from semantic-kernel) (2.6.1)\n",
      "Requirement already satisfied: defusedxml~=0.7 in /Users/dmitry/Projects/impactai/semantic-kernel/venv/lib/python3.12/site-packages (from semantic-kernel) (0.7.1)\n",
      "Requirement already satisfied: azure-identity~=1.13 in /Users/dmitry/Projects/impactai/semantic-kernel/venv/lib/python3.12/site-packages (from semantic-kernel) (1.19.0)\n",
      "Requirement already satisfied: numpy>=1.26.0 in /Users/dmitry/Projects/impactai/semantic-kernel/venv/lib/python3.12/site-packages (from semantic-kernel) (2.1.3)\n",
      "Requirement already satisfied: openai~=1.0 in /Users/dmitry/Projects/impactai/semantic-kernel/venv/lib/python3.12/site-packages (from semantic-kernel) (1.55.1)\n",
      "Requirement already satisfied: openapi_core<0.20,>=0.18 in /Users/dmitry/Projects/impactai/semantic-kernel/venv/lib/python3.12/site-packages (from semantic-kernel) (0.19.4)\n",
      "Requirement already satisfied: opentelemetry-api~=1.24 in /Users/dmitry/Projects/impactai/semantic-kernel/venv/lib/python3.12/site-packages (from semantic-kernel) (1.28.2)\n",
      "Requirement already satisfied: opentelemetry-sdk~=1.24 in /Users/dmitry/Projects/impactai/semantic-kernel/venv/lib/python3.12/site-packages (from semantic-kernel) (1.28.2)\n",
      "Requirement already satisfied: prance~=23.6.21.0 in /Users/dmitry/Projects/impactai/semantic-kernel/venv/lib/python3.12/site-packages (from semantic-kernel) (23.6.21.0)\n",
      "Requirement already satisfied: pybars4~=0.9 in /Users/dmitry/Projects/impactai/semantic-kernel/venv/lib/python3.12/site-packages (from semantic-kernel) (0.9.13)\n",
      "Requirement already satisfied: jinja2~=3.1 in /Users/dmitry/Projects/impactai/semantic-kernel/venv/lib/python3.12/site-packages (from semantic-kernel) (3.1.4)\n",
      "Requirement already satisfied: nest-asyncio~=1.6 in /Users/dmitry/Projects/impactai/semantic-kernel/venv/lib/python3.12/site-packages (from semantic-kernel) (1.6.0)\n",
      "Requirement already satisfied: aiohappyeyeballs>=2.3.0 in /Users/dmitry/Projects/impactai/semantic-kernel/venv/lib/python3.12/site-packages (from aiohttp~=3.8->semantic-kernel) (2.4.3)\n",
      "Requirement already satisfied: aiosignal>=1.1.2 in /Users/dmitry/Projects/impactai/semantic-kernel/venv/lib/python3.12/site-packages (from aiohttp~=3.8->semantic-kernel) (1.3.1)\n",
      "Requirement already satisfied: attrs>=17.3.0 in /Users/dmitry/Projects/impactai/semantic-kernel/venv/lib/python3.12/site-packages (from aiohttp~=3.8->semantic-kernel) (24.2.0)\n",
      "Requirement already satisfied: frozenlist>=1.1.1 in /Users/dmitry/Projects/impactai/semantic-kernel/venv/lib/python3.12/site-packages (from aiohttp~=3.8->semantic-kernel) (1.5.0)\n",
      "Requirement already satisfied: multidict<7.0,>=4.5 in /Users/dmitry/Projects/impactai/semantic-kernel/venv/lib/python3.12/site-packages (from aiohttp~=3.8->semantic-kernel) (6.1.0)\n",
      "Requirement already satisfied: propcache>=0.2.0 in /Users/dmitry/Projects/impactai/semantic-kernel/venv/lib/python3.12/site-packages (from aiohttp~=3.8->semantic-kernel) (0.2.0)\n",
      "Requirement already satisfied: yarl<2.0,>=1.17.0 in /Users/dmitry/Projects/impactai/semantic-kernel/venv/lib/python3.12/site-packages (from aiohttp~=3.8->semantic-kernel) (1.18.0)\n",
      "Requirement already satisfied: azure-core>=1.31.0 in /Users/dmitry/Projects/impactai/semantic-kernel/venv/lib/python3.12/site-packages (from azure-identity~=1.13->semantic-kernel) (1.32.0)\n",
      "Requirement already satisfied: cryptography>=2.5 in /Users/dmitry/Projects/impactai/semantic-kernel/venv/lib/python3.12/site-packages (from azure-identity~=1.13->semantic-kernel) (43.0.3)\n",
      "Requirement already satisfied: msal>=1.30.0 in /Users/dmitry/Projects/impactai/semantic-kernel/venv/lib/python3.12/site-packages (from azure-identity~=1.13->semantic-kernel) (1.31.1)\n",
      "Requirement already satisfied: msal-extensions>=1.2.0 in /Users/dmitry/Projects/impactai/semantic-kernel/venv/lib/python3.12/site-packages (from azure-identity~=1.13->semantic-kernel) (1.2.0)\n",
      "Requirement already satisfied: typing-extensions>=4.0.0 in /Users/dmitry/Projects/impactai/semantic-kernel/venv/lib/python3.12/site-packages (from azure-identity~=1.13->semantic-kernel) (4.12.2)\n",
      "Requirement already satisfied: deprecation<3.0,>=2.0 in /Users/dmitry/Projects/impactai/semantic-kernel/venv/lib/python3.12/site-packages (from cloudevents~=1.0->semantic-kernel) (2.1.0)\n",
      "Requirement already satisfied: MarkupSafe>=2.0 in /Users/dmitry/Projects/impactai/semantic-kernel/venv/lib/python3.12/site-packages (from jinja2~=3.1->semantic-kernel) (3.0.2)\n",
      "Requirement already satisfied: anyio<5,>=3.5.0 in /Users/dmitry/Projects/impactai/semantic-kernel/venv/lib/python3.12/site-packages (from openai~=1.0->semantic-kernel) (4.6.2.post1)\n",
      "Requirement already satisfied: distro<2,>=1.7.0 in /Users/dmitry/Projects/impactai/semantic-kernel/venv/lib/python3.12/site-packages (from openai~=1.0->semantic-kernel) (1.9.0)\n",
      "Requirement already satisfied: httpx<1,>=0.23.0 in /Users/dmitry/Projects/impactai/semantic-kernel/venv/lib/python3.12/site-packages (from openai~=1.0->semantic-kernel) (0.27.2)\n",
      "Requirement already satisfied: jiter<1,>=0.4.0 in /Users/dmitry/Projects/impactai/semantic-kernel/venv/lib/python3.12/site-packages (from openai~=1.0->semantic-kernel) (0.7.1)\n",
      "Requirement already satisfied: sniffio in /Users/dmitry/Projects/impactai/semantic-kernel/venv/lib/python3.12/site-packages (from openai~=1.0->semantic-kernel) (1.3.1)\n",
      "Requirement already satisfied: tqdm>4 in /Users/dmitry/Projects/impactai/semantic-kernel/venv/lib/python3.12/site-packages (from openai~=1.0->semantic-kernel) (4.67.1)\n",
      "Requirement already satisfied: isodate in /Users/dmitry/Projects/impactai/semantic-kernel/venv/lib/python3.12/site-packages (from openapi_core<0.20,>=0.18->semantic-kernel) (0.7.2)\n",
      "Requirement already satisfied: jsonschema<5.0.0,>=4.18.0 in /Users/dmitry/Projects/impactai/semantic-kernel/venv/lib/python3.12/site-packages (from openapi_core<0.20,>=0.18->semantic-kernel) (4.23.0)\n",
      "Requirement already satisfied: jsonschema-path<0.4.0,>=0.3.1 in /Users/dmitry/Projects/impactai/semantic-kernel/venv/lib/python3.12/site-packages (from openapi_core<0.20,>=0.18->semantic-kernel) (0.3.3)\n",
      "Requirement already satisfied: more-itertools in /Users/dmitry/Projects/impactai/semantic-kernel/venv/lib/python3.12/site-packages (from openapi_core<0.20,>=0.18->semantic-kernel) (10.5.0)\n",
      "Requirement already satisfied: openapi-schema-validator<0.7.0,>=0.6.0 in /Users/dmitry/Projects/impactai/semantic-kernel/venv/lib/python3.12/site-packages (from openapi_core<0.20,>=0.18->semantic-kernel) (0.6.2)\n",
      "Requirement already satisfied: openapi-spec-validator<0.8.0,>=0.7.1 in /Users/dmitry/Projects/impactai/semantic-kernel/venv/lib/python3.12/site-packages (from openapi_core<0.20,>=0.18->semantic-kernel) (0.7.1)\n",
      "Requirement already satisfied: parse in /Users/dmitry/Projects/impactai/semantic-kernel/venv/lib/python3.12/site-packages (from openapi_core<0.20,>=0.18->semantic-kernel) (1.20.2)\n",
      "Requirement already satisfied: werkzeug in /Users/dmitry/Projects/impactai/semantic-kernel/venv/lib/python3.12/site-packages (from openapi_core<0.20,>=0.18->semantic-kernel) (3.1.3)\n",
      "Requirement already satisfied: deprecated>=1.2.6 in /Users/dmitry/Projects/impactai/semantic-kernel/venv/lib/python3.12/site-packages (from opentelemetry-api~=1.24->semantic-kernel) (1.2.15)\n",
      "Requirement already satisfied: importlib-metadata<=8.5.0,>=6.0 in /Users/dmitry/Projects/impactai/semantic-kernel/venv/lib/python3.12/site-packages (from opentelemetry-api~=1.24->semantic-kernel) (8.5.0)\n",
      "Requirement already satisfied: opentelemetry-semantic-conventions==0.49b2 in /Users/dmitry/Projects/impactai/semantic-kernel/venv/lib/python3.12/site-packages (from opentelemetry-sdk~=1.24->semantic-kernel) (0.49b2)\n",
      "Requirement already satisfied: chardet>=3.0 in /Users/dmitry/Projects/impactai/semantic-kernel/venv/lib/python3.12/site-packages (from prance~=23.6.21.0->semantic-kernel) (5.2.0)\n",
      "Requirement already satisfied: ruamel.yaml>=0.17.10 in /Users/dmitry/Projects/impactai/semantic-kernel/venv/lib/python3.12/site-packages (from prance~=23.6.21.0->semantic-kernel) (0.17.21)\n",
      "Requirement already satisfied: requests>=2.25 in /Users/dmitry/Projects/impactai/semantic-kernel/venv/lib/python3.12/site-packages (from prance~=23.6.21.0->semantic-kernel) (2.32.3)\n",
      "Requirement already satisfied: six~=1.15 in /Users/dmitry/Projects/impactai/semantic-kernel/venv/lib/python3.12/site-packages (from prance~=23.6.21.0->semantic-kernel) (1.16.0)\n",
      "Requirement already satisfied: packaging>=21.3 in /Users/dmitry/Projects/impactai/semantic-kernel/venv/lib/python3.12/site-packages (from prance~=23.6.21.0->semantic-kernel) (24.2)\n",
      "Requirement already satisfied: PyMeta3>=0.5.1 in /Users/dmitry/Projects/impactai/semantic-kernel/venv/lib/python3.12/site-packages (from pybars4~=0.9->semantic-kernel) (0.5.1)\n",
      "Requirement already satisfied: annotated-types>=0.6.0 in /Users/dmitry/Projects/impactai/semantic-kernel/venv/lib/python3.12/site-packages (from pydantic<2.10,>=2.0->semantic-kernel) (0.7.0)\n",
      "Requirement already satisfied: pydantic-core==2.23.4 in /Users/dmitry/Projects/impactai/semantic-kernel/venv/lib/python3.12/site-packages (from pydantic<2.10,>=2.0->semantic-kernel) (2.23.4)\n",
      "Requirement already satisfied: python-dotenv>=0.21.0 in /Users/dmitry/Projects/impactai/semantic-kernel/venv/lib/python3.12/site-packages (from pydantic-settings~=2.0->semantic-kernel) (1.0.1)\n",
      "Requirement already satisfied: idna>=2.8 in /Users/dmitry/Projects/impactai/semantic-kernel/venv/lib/python3.12/site-packages (from anyio<5,>=3.5.0->openai~=1.0->semantic-kernel) (3.10)\n",
      "Requirement already satisfied: cffi>=1.12 in /Users/dmitry/Projects/impactai/semantic-kernel/venv/lib/python3.12/site-packages (from cryptography>=2.5->azure-identity~=1.13->semantic-kernel) (1.17.1)\n",
      "Requirement already satisfied: wrapt<2,>=1.10 in /Users/dmitry/Projects/impactai/semantic-kernel/venv/lib/python3.12/site-packages (from deprecated>=1.2.6->opentelemetry-api~=1.24->semantic-kernel) (1.17.0)\n",
      "Requirement already satisfied: certifi in /Users/dmitry/Projects/impactai/semantic-kernel/venv/lib/python3.12/site-packages (from httpx<1,>=0.23.0->openai~=1.0->semantic-kernel) (2024.8.30)\n",
      "Requirement already satisfied: httpcore==1.* in /Users/dmitry/Projects/impactai/semantic-kernel/venv/lib/python3.12/site-packages (from httpx<1,>=0.23.0->openai~=1.0->semantic-kernel) (1.0.7)\n",
      "Requirement already satisfied: h11<0.15,>=0.13 in /Users/dmitry/Projects/impactai/semantic-kernel/venv/lib/python3.12/site-packages (from httpcore==1.*->httpx<1,>=0.23.0->openai~=1.0->semantic-kernel) (0.14.0)\n",
      "Requirement already satisfied: zipp>=3.20 in /Users/dmitry/Projects/impactai/semantic-kernel/venv/lib/python3.12/site-packages (from importlib-metadata<=8.5.0,>=6.0->opentelemetry-api~=1.24->semantic-kernel) (3.21.0)\n",
      "Requirement already satisfied: jsonschema-specifications>=2023.03.6 in /Users/dmitry/Projects/impactai/semantic-kernel/venv/lib/python3.12/site-packages (from jsonschema<5.0.0,>=4.18.0->openapi_core<0.20,>=0.18->semantic-kernel) (2023.12.1)\n",
      "Requirement already satisfied: referencing>=0.28.4 in /Users/dmitry/Projects/impactai/semantic-kernel/venv/lib/python3.12/site-packages (from jsonschema<5.0.0,>=4.18.0->openapi_core<0.20,>=0.18->semantic-kernel) (0.35.1)\n",
      "Requirement already satisfied: rpds-py>=0.7.1 in /Users/dmitry/Projects/impactai/semantic-kernel/venv/lib/python3.12/site-packages (from jsonschema<5.0.0,>=4.18.0->openapi_core<0.20,>=0.18->semantic-kernel) (0.21.0)\n",
      "Requirement already satisfied: PyYAML>=5.1 in /Users/dmitry/Projects/impactai/semantic-kernel/venv/lib/python3.12/site-packages (from jsonschema-path<0.4.0,>=0.3.1->openapi_core<0.20,>=0.18->semantic-kernel) (6.0.2)\n",
      "Requirement already satisfied: pathable<0.5.0,>=0.4.1 in /Users/dmitry/Projects/impactai/semantic-kernel/venv/lib/python3.12/site-packages (from jsonschema-path<0.4.0,>=0.3.1->openapi_core<0.20,>=0.18->semantic-kernel) (0.4.3)\n",
      "Requirement already satisfied: PyJWT<3,>=1.0.0 in /Users/dmitry/Projects/impactai/semantic-kernel/venv/lib/python3.12/site-packages (from PyJWT[crypto]<3,>=1.0.0->msal>=1.30.0->azure-identity~=1.13->semantic-kernel) (2.10.0)\n",
      "Requirement already satisfied: portalocker<3,>=1.4 in /Users/dmitry/Projects/impactai/semantic-kernel/venv/lib/python3.12/site-packages (from msal-extensions>=1.2.0->azure-identity~=1.13->semantic-kernel) (2.10.1)\n",
      "Requirement already satisfied: rfc3339-validator in /Users/dmitry/Projects/impactai/semantic-kernel/venv/lib/python3.12/site-packages (from openapi-schema-validator<0.7.0,>=0.6.0->openapi_core<0.20,>=0.18->semantic-kernel) (0.1.4)\n",
      "Requirement already satisfied: lazy-object-proxy<2.0.0,>=1.7.1 in /Users/dmitry/Projects/impactai/semantic-kernel/venv/lib/python3.12/site-packages (from openapi-spec-validator<0.8.0,>=0.7.1->openapi_core<0.20,>=0.18->semantic-kernel) (1.10.0)\n",
      "Requirement already satisfied: charset-normalizer<4,>=2 in /Users/dmitry/Projects/impactai/semantic-kernel/venv/lib/python3.12/site-packages (from requests>=2.25->prance~=23.6.21.0->semantic-kernel) (3.4.0)\n",
      "Requirement already satisfied: urllib3<3,>=1.21.1 in /Users/dmitry/Projects/impactai/semantic-kernel/venv/lib/python3.12/site-packages (from requests>=2.25->prance~=23.6.21.0->semantic-kernel) (2.2.3)\n",
      "Requirement already satisfied: pycparser in /Users/dmitry/Projects/impactai/semantic-kernel/venv/lib/python3.12/site-packages (from cffi>=1.12->cryptography>=2.5->azure-identity~=1.13->semantic-kernel) (2.22)\n",
      "\n",
      "\u001b[1m[\u001b[0m\u001b[34;49mnotice\u001b[0m\u001b[1;39;49m]\u001b[0m\u001b[39;49m A new release of pip is available: \u001b[0m\u001b[31;49m24.2\u001b[0m\u001b[39;49m -> \u001b[0m\u001b[32;49m24.3.1\u001b[0m\n",
      "\u001b[1m[\u001b[0m\u001b[34;49mnotice\u001b[0m\u001b[1;39;49m]\u001b[0m\u001b[39;49m To update, run: \u001b[0m\u001b[32;49mpip install --upgrade pip\u001b[0m\n",
      "Note: you may need to restart the kernel to use updated packages.\n"
     ]
    },
    {
     "data": {
      "text/plain": [
       "'1.16.0'"
      ]
     },
     "execution_count": 1,
     "metadata": {},
     "output_type": "execute_result"
    }
   ],
   "source": [
    "# Note: if using a virtual environment, do not run this cell\n",
    "%pip install -U semantic-kernel\n",
    "from semantic_kernel import __version__\n",
    "\n",
    "__version__"
   ]
  },
  {
   "cell_type": "markdown",
   "metadata": {},
   "source": [
    "Initial configuration for the notebook to run properly."
   ]
  },
  {
   "cell_type": "code",
   "execution_count": 3,
   "metadata": {},
   "outputs": [],
   "source": [
    "# Make sure paths are correct for the imports\n",
    "\n",
    "import os\n",
    "import sys\n",
    "\n",
    "notebook_dir = os.path.abspath(\"\")\n",
    "parent_dir = os.path.dirname(notebook_dir)\n",
    "grandparent_dir = os.path.dirname(parent_dir)\n",
    "\n",
    "\n",
    "sys.path.append(grandparent_dir)"
   ]
  },
  {
   "cell_type": "markdown",
   "metadata": {},
   "source": [
    "### Configuring the Kernel\n",
    "\n",
    "Let's get started with the necessary configuration to run Semantic Kernel. For Notebooks, we require a `.env` file with the proper settings for the model you use. Create a new file named `.env` and place it in this directory. Copy the contents of the `.env.example` file from this directory and paste it into the `.env` file that you just created.\n",
    "\n",
    "**NOTE: Please make sure to include `GLOBAL_LLM_SERVICE` set to either OpenAI, AzureOpenAI, or HuggingFace in your .env file. If this setting is not included, the Service will default to AzureOpenAI.**\n",
    "\n",
    "#### Option 1: using OpenAI\n",
    "\n",
    "Add your [OpenAI Key](https://openai.com/product/) key to your `.env` file (org Id only if you have multiple orgs):\n",
    "\n",
    "```\n",
    "GLOBAL_LLM_SERVICE=\"OpenAI\"\n",
    "OPENAI_API_KEY=\"sk-...\"\n",
    "OPENAI_ORG_ID=\"\"\n",
    "OPENAI_CHAT_MODEL_ID=\"\"\n",
    "OPENAI_TEXT_MODEL_ID=\"\"\n",
    "OPENAI_EMBEDDING_MODEL_ID=\"\"\n",
    "```\n",
    "The names should match the names used in the `.env` file, as shown above.\n",
    "\n",
    "#### Option 2: using Azure OpenAI\n",
    "\n",
    "Add your [Azure Open AI Service key](https://learn.microsoft.com/azure/cognitive-services/openai/quickstart?pivots=programming-language-studio) settings to the `.env` file in the same folder:\n",
    "\n",
    "```\n",
    "GLOBAL_LLM_SERVICE=\"AzureOpenAI\"\n",
    "AZURE_OPENAI_API_KEY=\"...\"\n",
    "AZURE_OPENAI_ENDPOINT=\"https://...\"\n",
    "AZURE_OPENAI_CHAT_DEPLOYMENT_NAME=\"...\"\n",
    "AZURE_OPENAI_TEXT_DEPLOYMENT_NAME=\"...\"\n",
    "AZURE_OPENAI_EMBEDDING_DEPLOYMENT_NAME=\"...\"\n",
    "AZURE_OPENAI_API_VERSION=\"...\"\n",
    "```\n",
    "The names should match the names used in the `.env` file, as shown above.\n",
    "\n",
    "For more advanced configuration, please follow the steps outlined in the [setup guide](./CONFIGURING_THE_KERNEL.md)."
   ]
  },
  {
   "cell_type": "markdown",
   "metadata": {},
   "source": [
    "Let's define our kernel for this example."
   ]
  },
  {
   "cell_type": "code",
   "execution_count": null,
   "metadata": {},
   "outputs": [],
   "source": [
    "from semantic_kernel import Kernel\n",
    "\n",
    "kernel = Kernel()"
   ]
  },
  {
   "cell_type": "markdown",
   "metadata": {},
   "source": [
    "We will load our settings and get the LLM service to use for the notebook."
   ]
  },
  {
   "cell_type": "code",
   "execution_count": null,
   "metadata": {},
   "outputs": [],
   "source": [
    "from services import Service\n",
    "\n",
    "from samples.service_settings import ServiceSettings\n",
    "\n",
    "service_settings = ServiceSettings.create()\n",
    "\n",
    "# Select a service to use for this notebook (available services: OpenAI, AzureOpenAI, HuggingFace)\n",
    "selectedService = (\n",
    "    Service.AzureOpenAI\n",
    "    if service_settings.global_llm_service is None\n",
    "    else Service(service_settings.global_llm_service.lower())\n",
    ")\n",
    "print(f\"Using service type: {selectedService}\")"
   ]
  },
  {
   "cell_type": "markdown",
   "metadata": {},
   "source": [
    "We now configure our Chat Completion service on the kernel."
   ]
  },
  {
   "cell_type": "code",
   "execution_count": null,
   "metadata": {},
   "outputs": [],
   "source": [
    "# Remove all services so that this cell can be re-run without restarting the kernel\n",
    "kernel.remove_all_services()\n",
    "\n",
    "service_id = None\n",
    "if selectedService == Service.OpenAI:\n",
    "    from semantic_kernel.connectors.ai.open_ai import OpenAIChatCompletion\n",
    "\n",
    "    service_id = \"default\"\n",
    "    kernel.add_service(\n",
    "        OpenAIChatCompletion(\n",
    "            service_id=service_id,\n",
    "        ),\n",
    "    )\n",
    "elif selectedService == Service.AzureOpenAI:\n",
    "    from semantic_kernel.connectors.ai.open_ai import AzureChatCompletion\n",
    "\n",
    "    service_id = \"default\"\n",
    "    kernel.add_service(\n",
    "        AzureChatCompletion(\n",
    "            service_id=service_id,\n",
    "        ),\n",
    "    )"
   ]
  },
  {
   "attachments": {},
   "cell_type": "markdown",
   "metadata": {},
   "source": [
    "# Run a Semantic Function\n",
    "\n",
    "**Step 3**: Load a Plugin and run a semantic function:\n"
   ]
  },
  {
   "cell_type": "code",
   "execution_count": null,
   "metadata": {},
   "outputs": [],
   "source": [
    "plugin = kernel.add_plugin(parent_directory=\"../../../prompt_template_samples/\", plugin_name=\"FunPlugin\")"
   ]
  },
  {
   "cell_type": "code",
   "execution_count": null,
   "metadata": {},
   "outputs": [],
   "source": [
    "from semantic_kernel.functions import KernelArguments\n",
    "\n",
    "joke_function = plugin[\"Joke\"]\n",
    "\n",
    "joke = await kernel.invoke(\n",
    "    joke_function,\n",
    "    KernelArguments(input=\"time travel to dinosaur age\", style=\"super silly\"),\n",
    ")\n",
    "print(joke)"
   ]
  }
 ],
 "metadata": {
  "kernelspec": {
   "display_name": ".venv",
   "language": "python",
   "name": "python3"
  },
  "language_info": {
   "codemirror_mode": {
    "name": "ipython",
    "version": 3
   },
   "file_extension": ".py",
   "mimetype": "text/x-python",
   "name": "python",
   "nbconvert_exporter": "python",
   "pygments_lexer": "ipython3",
   "version": "3.12.5"
  }
 },
 "nbformat": 4,
 "nbformat_minor": 2
}
